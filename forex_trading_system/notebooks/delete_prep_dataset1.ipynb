{
 "cells": [
  {
   "cell_type": "code",
   "execution_count": null,
   "metadata": {},
   "outputs": [
    {
     "name": "stderr",
     "output_type": "stream",
     "text": [
      "2024-12-08 15:11:27,954 - dataset_prep - INFO - Starting processing for EUR_USD at 2024-12-08 15:11:27.950971\n"
     ]
    },
    {
     "name": "stderr",
     "output_type": "stream",
     "text": [
      "2024-12-08 15:11:39,048 - dataset_prep - INFO - Starting data preparation using row-by-row method...\n",
      "2024-12-08 15:11:40,124 - dataset_prep - INFO - Resampled to 5-minute candles. Shape: (1753845, 4)\n",
      "Processing rows:  13%|█▎        | 233472/1753845 [30:16<3:07:41, 135.00it/s]"
     ]
    }
   ],
   "source": [
    "\n",
    "import os\n",
    "import sys\n",
    "import pandas as pd\n",
    "import numpy as np\n",
    "import pytz\n",
    "from typing import List, Optional\n",
    "from IPython.core.interactiveshell import InteractiveShell\n",
    "InteractiveShell.ast_node_interactivity = \"all\"\n",
    "\n",
    "# Add the project root to the Python path\n",
    "project_root = os.path.abspath(os.path.join(os.getcwd(), '..'))\n",
    "if project_root not in sys.path:\n",
    "    sys.path.append(project_root)\n",
    "\n",
    "from unbiased_data import process_currency_pairs, prepare_unbiased_dataset_row_by_row\n",
    "\n",
    "from data_management.indicator_manager import IndicatorManager\n",
    "from data_management.preprocessor import DataPreprocessor\n",
    "\n",
    "indicator_manager = IndicatorManager()\n",
    "processor = DataPreprocessor()\n",
    "\n",
    "import logging\n",
    "import pandas as pd\n",
    "\n",
    "# Setup logging\n",
    "logging.basicConfig(\n",
    "    level=logging.INFO,\n",
    "    format='%(asctime)s - %(name)s - %(levelname)s - %(message)s',\n",
    "    handlers=[\n",
    "        logging.FileHandler('dataset_prep.log'),\n",
    "        logging.StreamHandler()\n",
    "    ]\n",
    ")\n",
    "logger = logging.getLogger('dataset_prep')\n",
    "\n",
    "\n",
    "\n",
    "ccy = 'EUR_USD'\n",
    "\n",
    "logger.info(f'Starting processing for {ccy} at {pd.Timestamp.now()}')\n",
    "df = pd.read_parquet(f'/Users/floriankockler/Library/CloudStorage/OneDrive-kockler/usb_stick_6dec/1min_source/{ccy}.parquet')\n",
    "# df = df.head(1_000_000)\n",
    "\n",
    "df_with_indicators = prepare_unbiased_dataset_row_by_row(\n",
    "            df=df,\n",
    "\n",
    "            indicator_manager=indicator_manager,\n",
    "            indicator_timeframe='D',\n",
    "            verbose=True\n",
    "        )\n",
    "df_with_indicators = df_with_indicators.dropna()\n",
    "\n",
    "output_path_not_norm = f'./{ccy}_5min_1D_all_indic_not_norm_unbiased.parquet'\n",
    "df_with_indicators.to_parquet(output_path_not_norm)\n",
    "\n",
    "df_norm = processor.normalize_simple(df=df_with_indicators)\n",
    "\n",
    "output_path = f'./{ccy}_5min_1D_all_indic_norm_unbiased.parquet'\n",
    "df_norm.to_parquet(output_path)\n",
    "\n",
    "logger.info(f'Finished processing for {ccy} at {pd.Timestamp.now()}')\n",
    "df_with_indicators\n",
    " "
   ]
  },
  {
   "cell_type": "code",
   "execution_count": null,
   "metadata": {},
   "outputs": [
    {
     "data": {
      "text/plain": [
       "Index(['open', 'high', 'low', 'close', 'sma_20', 'sma_50', 'rsi', 'macd',\n",
       "       'macd_signal', 'macd_hist', 'roc_10', 'stoch_rsi', 'stoch_k', 'stoch_d',\n",
       "       'bb_upper', 'bb_middle', 'bb_lower', 'bb_bandwidth', 'bb_percent',\n",
       "       'atr', 'plus_di', 'minus_di', 'adx', 'senkou_span_a', 'senkou_span_b',\n",
       "       'tenkan_sen', 'kijun_sen'],\n",
       "      dtype='object')"
      ]
     },
     "execution_count": 2,
     "metadata": {},
     "output_type": "execute_result"
    }
   ],
   "source": []
  },
  {
   "cell_type": "code",
   "execution_count": null,
   "metadata": {},
   "outputs": [
    {
     "name": "stderr",
     "output_type": "stream",
     "text": [
      "2024-12-07 18:55:20,580 - dataset_prep - INFO - Starting processing for EUR_USD at 2024-12-07 18:55:20.580834\n",
      "2024-12-07 18:55:24,713 - dataset_prep - INFO - Starting data preparation using row-by-row method...\n",
      "2024-12-07 18:55:25,365 - dataset_prep - INFO - Resampled to 5-minute candles. Shape: (1753845, 4)\n",
      "Processing rows: 100%|██████████| 1753845/1753845 [3:27:14<00:00, 141.05it/s]  \n",
      "2024-12-07 22:28:18,506 - dataset_prep - INFO - \n",
      "Final dataset prepared. Shape: (1753845, 23)\n",
      "2024-12-07 22:28:18,514 - dataset_prep - INFO - Date range: 2001-01-02 23:00:00+00:00 to 2024-11-28 10:15:00+00:00\n",
      "2024-12-07 22:28:18,763 - dataset_prep - INFO - \n",
      "Percentage of NaN values in indicator columns:\n",
      "2024-12-07 22:28:18,764 - dataset_prep - INFO - sma_20: 0.24%\n",
      "2024-12-07 22:28:18,764 - dataset_prep - INFO - sma_50: 0.64%\n",
      "2024-12-07 22:28:18,765 - dataset_prep - INFO - rsi: 0.18%\n",
      "2024-12-07 22:28:18,765 - dataset_prep - INFO - macd: 0.44%\n",
      "2024-12-07 22:28:18,766 - dataset_prep - INFO - macd_signal: 0.44%\n",
      "2024-12-07 22:28:18,766 - dataset_prep - INFO - macd_hist: 0.44%\n",
      "2024-12-07 22:28:18,767 - dataset_prep - INFO - bb_upper: 0.24%\n",
      "2024-12-07 22:28:18,767 - dataset_prep - INFO - bb_middle: 0.24%\n",
      "2024-12-07 22:28:18,768 - dataset_prep - INFO - bb_lower: 0.24%\n",
      "2024-12-07 22:28:18,768 - dataset_prep - INFO - bb_bandwidth: 0.24%\n",
      "2024-12-07 22:28:18,768 - dataset_prep - INFO - bb_percent: 0.24%\n",
      "2024-12-07 22:28:18,769 - dataset_prep - INFO - atr: 0.18%\n",
      "2024-12-07 22:28:18,770 - dataset_prep - INFO - plus_di: 0.18%\n",
      "2024-12-07 22:28:18,770 - dataset_prep - INFO - minus_di: 0.18%\n",
      "2024-12-07 22:28:18,771 - dataset_prep - INFO - adx: 0.36%\n",
      "2024-12-07 22:28:18,771 - dataset_prep - INFO - senkou_span_a: 0.68%\n",
      "2024-12-07 22:28:18,771 - dataset_prep - INFO - senkou_span_b: 1.02%\n",
      "2024-12-07 22:28:18,772 - dataset_prep - INFO - tenkan_sen: 0.68%\n",
      "2024-12-07 22:28:18,772 - dataset_prep - INFO - kijun_sen: 0.68%\n",
      "2024-12-07 22:28:27,387 - dataset_prep - INFO - Finished processing for EUR_USD at 2024-12-07 22:28:27.386957\n"
     ]
    }
   ],
   "source": [
    "\n",
    "\n",
    "from unbiased_data import process_currency_pairs, prepare_unbiased_dataset_row_by_row\n",
    "\n",
    "from data_management.indicator_manager import IndicatorManager\n",
    "from data_management.preprocessor import DataPreprocessor\n",
    "\n",
    "indicator_manager = IndicatorManager()\n",
    "processor = DataPreprocessor()\n",
    "\n",
    "import logging\n",
    "\n",
    "\n",
    "# Setup logging\n",
    "logging.basicConfig(\n",
    "    level=logging.INFO,\n",
    "    format='%(asctime)s - %(name)s - %(levelname)s - %(message)s',\n",
    "    handlers=[\n",
    "        logging.FileHandler('dataset_prep.log'),\n",
    "        logging.StreamHandler()\n",
    "    ]\n",
    ")\n",
    "logger = logging.getLogger('dataset_prep')\n",
    "\n",
    "\n",
    "\n",
    "\n",
    "currencies_1 = [\n",
    "            'GBP_CHF', 'GBP_JPY', 'EUR_CHF', \n",
    " \n",
    "        ]\n",
    "currencies_2 = [\n",
    "\n",
    "            'EUR_CAD', 'EUR_USD', 'GBP_USD', \n",
    "    \n",
    "        ]\n",
    "currencies_3 = [\n",
    "\n",
    "            'USD_CAD', 'AUD_USD', 'CHF_JPY', \n",
    " \n",
    "        ]\n",
    "currencies_4 = [\n",
    "\n",
    "            'NZD_JPY', 'XAU_USD', 'XAG_USD', \n",
    "        ]\n",
    "currencies_5 = [\n",
    "\n",
    "            'USD_CHF', 'USD_JPY', 'AUD_JPY', \n",
    "        ]\n",
    "currencies_6 = [\n",
    "\n",
    "            'EUR_JPY', 'EUR_GBP', 'NZD_USD',\n",
    "        ]\n",
    "\n",
    "eur_only = ['EUR_USD']\n",
    "\n",
    "for ccy in eur_only:\n",
    "\n",
    "    logger.info(f'Starting processing for {ccy} at {pd.Timestamp.now()}')\n",
    "    df = pd.read_parquet(f'/Users/floriankockler/Library/CloudStorage/OneDrive-kockler/usb_stick_6dec/1min_source/{ccy}.parquet')\n",
    "    # df = df.head(3_000_000)\n",
    "    \n",
    "    df_with_indicators = prepare_unbiased_dataset_row_by_row(\n",
    "                df=df,\n",
    "                indicator_manager=indicator_manager,\n",
    "                indicator_timeframe='D',\n",
    "                verbose=True\n",
    "            )\n",
    "    df_with_indicators = df_with_indicators.dropna()\n",
    "    \n",
    "    output_path_not_norm = f'./{ccy}_5min_1D_indic_not_norm_unbiased_full.parquet'\n",
    "    df_with_indicators.to_parquet(output_path_not_norm)\n",
    "    \n",
    "    df_norm = processor.normalize_simple(df=df_with_indicators)\n",
    "    \n",
    "    output_path = f'./{ccy}_5min_1D_norm_unbiased_full.parquet'\n",
    "    df_norm.to_parquet(output_path)\n",
    "    \n",
    "    logger.info(f'Finished processing for {ccy} at {pd.Timestamp.now()}')\n",
    " "
   ]
  },
  {
   "cell_type": "code",
   "execution_count": null,
   "metadata": {},
   "outputs": [],
   "source": []
  },
  {
   "cell_type": "code",
   "execution_count": null,
   "metadata": {},
   "outputs": [],
   "source": []
  },
  {
   "cell_type": "code",
   "execution_count": null,
   "metadata": {},
   "outputs": [],
   "source": [
    "train_set = f'/Users/floriankockler/Code/GitHub.nosync/ai6-gcp-bot/forex_trading_system/notebooks/EUR_USD_5min_1H_norm_unbiased.parquet'\n",
    "df = pd.read_parquet(train_set)\n",
    "# df.isna().any()\n",
    "# np.isinf(df).any()\n",
    "\n",
    "df['bb_percent'] = df['bb_percent'].replace([np.inf, -np.inf], [1, 0])\n",
    "df.to_parquet(\"/Users/floriankockler/Code/GitHub.nosync/ai6-gcp-bot/forex_trading_system/notebooks/EUR_USD_5min_1H_norm_unbiased1.parquet\")"
   ]
  },
  {
   "cell_type": "code",
   "execution_count": null,
   "metadata": {},
   "outputs": [],
   "source": [
    "not_norm = pd.read_parquet(f'/Volumes/ssd_fat2/ai6_trading_bot/datasets/1min/{ccy}.parquet')\n",
    "not_norm\n"
   ]
  },
  {
   "cell_type": "code",
   "execution_count": null,
   "metadata": {},
   "outputs": [],
   "source": [
    "norm = pd.read_parquet(f'./{ccy}_5min_1H_norm_unbiased.parquet')\n",
    "norm"
   ]
  },
  {
   "cell_type": "code",
   "execution_count": null,
   "metadata": {},
   "outputs": [],
   "source": [
    "# import pandas as pd\n",
    "# df = pd.read_parquet(f'/Volumes/ssd_fat2/ai6_trading_bot/datasets/1min/EUR_USD.parquet')\n",
    "# df_test = df.head(5000)\n",
    "# df_test.to_parquet(f'/Volumes/ssd_fat2/ai6_trading_bot/datasets/1min/EUR_USD_test.parquet')"
   ]
  }
 ],
 "metadata": {
  "kernelspec": {
   "display_name": "SB5",
   "language": "python",
   "name": "python3"
  },
  "language_info": {
   "codemirror_mode": {
    "name": "ipython",
    "version": 3
   },
   "file_extension": ".py",
   "mimetype": "text/x-python",
   "name": "python",
   "nbconvert_exporter": "python",
   "pygments_lexer": "ipython3",
   "version": "3.9.18"
  }
 },
 "nbformat": 4,
 "nbformat_minor": 2
}
