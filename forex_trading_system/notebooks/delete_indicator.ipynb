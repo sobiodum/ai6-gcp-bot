{
 "cells": [
  {
   "cell_type": "code",
   "execution_count": null,
   "metadata": {},
   "outputs": [],
   "source": [
    "import os\n",
    "import sys\n",
    "\n",
    "import pandas as pd\n",
    "import numpy as np\n",
    "\n",
    "from datetime import datetime, timedelta\n",
    "from pathlib import Path\n",
    "import matplotlib.pyplot as plt\n",
    "from IPython.core.interactiveshell import InteractiveShell\n",
    "InteractiveShell.ast_node_interactivity = \"all\"\n",
    "\n",
    "# Add the project root to the Python path\n",
    "project_root = os.path.abspath(os.path.join(os.getcwd(), '..'))\n",
    "if project_root not in sys.path:\n",
    "    sys.path.append(project_root)\n",
    "from stable_baselines3 import PPO\n",
    "from stable_baselines3.common.vec_env import VecNormalize, DummyVecEnv\n",
    "from trading.environments.forex_env2_flat import ForexTradingEnv\n",
    "from stable_baselines3.common.callbacks import EvalCallback\n",
    "from stable_baselines3.common.monitor import Monitor\n",
    "from data_management.dataset_manager import DatasetManager\n",
    "from data_management.indicator_manager import IndicatorManager, DualTimeframeIndicators\n",
    "from visualization.chart_manager import ChartManager\n",
    "from data_management.preprocessor import DataPreprocessor\n",
    "\n",
    "processor = DataPreprocessor()\n",
    "dataset_manager = DatasetManager()\n",
    "chart_manager = ChartManager()\n",
    "\n",
    "eur_1min_spirce = '/Volumes/ssd_fat2/ai6_trading_bot/datasets/1min/EUR_USD.parquet'\n",
    "df = pd.read_parquet(eur_1min_spirce)\n",
    "resampled_df = df.resample('1H').agg({\n",
    "                    'open': 'first',\n",
    "                    'high': 'max',\n",
    "                    'low': 'min',\n",
    "                    'close': 'last',\n",
    "                }).dropna()\n"
   ]
  },
  {
   "cell_type": "code",
   "execution_count": null,
   "metadata": {},
   "outputs": [],
   "source": []
  },
  {
   "cell_type": "code",
   "execution_count": null,
   "metadata": {},
   "outputs": [],
   "source": [
    "dual_indicators = DualTimeframeIndicators(higher_timeframe='1D')\n",
    "enhanced_df = dual_indicators.add_dual_timeframe_indicators(resampled_df)\n",
    "enhanced_df"
   ]
  },
  {
   "cell_type": "code",
   "execution_count": null,
   "metadata": {},
   "outputs": [],
   "source": [
    "enhanced_df.to_parquet(\n",
    "    '/Volumes/ssd_fat2/ai6_trading_bot/datasets/1h/EUR_USD_1H_indics_1D_and_1h.parquet'\n",
    "   \n",
    ")"
   ]
  }
 ],
 "metadata": {
  "kernelspec": {
   "display_name": "SB5",
   "language": "python",
   "name": "python3"
  },
  "language_info": {
   "codemirror_mode": {
    "name": "ipython",
    "version": 3
   },
   "file_extension": ".py",
   "mimetype": "text/x-python",
   "name": "python",
   "nbconvert_exporter": "python",
   "pygments_lexer": "ipython3",
   "version": "3.9.18"
  }
 },
 "nbformat": 4,
 "nbformat_minor": 2
}
