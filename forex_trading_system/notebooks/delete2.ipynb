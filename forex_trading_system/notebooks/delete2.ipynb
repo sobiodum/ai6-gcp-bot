{
 "cells": [
  {
   "cell_type": "code",
   "execution_count": null,
   "metadata": {},
   "outputs": [],
   "source": [
    "import os\n",
    "import sys\n",
    "\n",
    "import pandas as pd\n",
    "\n",
    "from datetime import datetime, timedelta\n",
    "from pathlib import Path\n",
    "\n",
    "\n",
    "# Add the project root to the Python path\n",
    "project_root = os.path.abspath(os.path.join(os.getcwd(), '..'))\n",
    "if project_root not in sys.path:\n",
    "    sys.path.append(project_root)\n",
    "from stable_baselines3 import PPO\n",
    "from stable_baselines3.common.vec_env import VecNormalize, DummyVecEnv\n",
    "from trading.environments.forex_env2_flat import ForexTradingEnv\n",
    "from stable_baselines3.common.callbacks import EvalCallback\n",
    "from stable_baselines3.common.monitor import Monitor\n",
    "from data_management.dataset_manager import DatasetManager\n",
    "from data_management.indicator_manager import IndicatorManager\n",
    "\n",
    "\n",
    "\n",
    "eur_1min_source = Path('/Volumes/ssd_fat2/ai6_trading_bot/datasets/1min/EUR_USD.parquet')\n",
    "df_1min = pd.read_parquet(eur_1min_source)\n",
    "\n",
    "dataset_manager = DatasetManager()\n",
    "indicator_manager = IndicatorManager()\n",
    "new = dataset_manager.aggregate_timeframe(df=df_1min, source_timeframe='1min', target_timeframe='15min')\n",
    "new.dropna(inplace=True)\n",
    "min5_indics = indicator_manager.calculate_indicators(df=new)\n",
    "min5_indics.dropna(inplace=True)\n",
    "min5_indics.to_parquet('/Volumes/ssd_fat2/ai6_trading_bot/datasets/5min/EUR_USD_indics_not_norm.parquet')\n"
   ]
  },
  {
   "cell_type": "code",
   "execution_count": null,
   "metadata": {},
   "outputs": [],
   "source": [
    "import os\n",
    "import sys\n",
    "\n",
    "import pandas as pd\n",
    "\n",
    "from datetime import datetime, timedelta\n",
    "from pathlib import Path\n",
    "\n",
    "\n",
    "# Add the project root to the Python path\n",
    "project_root = os.path.abspath(os.path.join(os.getcwd(), '..'))\n",
    "if project_root not in sys.path:\n",
    "    sys.path.append(project_root)\n",
    "from stable_baselines3 import PPO\n",
    "from stable_baselines3.common.vec_env import VecNormalize, DummyVecEnv\n",
    "from trading.environments.forex_env2_flat import ForexTradingEnv\n",
    "from stable_baselines3.common.callbacks import EvalCallback\n",
    "from stable_baselines3.common.monitor import Monitor\n",
    "from data_management.dataset_manager import DatasetManager\n",
    "from data_management.indicator_manager import IndicatorManager\n",
    "\n",
    "min5_not_norm = pd.read_parquet('/Volumes/ssd_fat2/ai6_trading_bot/datasets/1h/EUR_USD.parquet')\n",
    "from visualization.chart_manager import ChartManager\n",
    "chart_manager = ChartManager()\n",
    "start_time = pd.Timestamp('2024-01-01').tz_localize('UTC')\n",
    "end_time = pd.Timestamp('2024-10-31').tz_localize('UTC')\n",
    "chart_manager.chart(min5_not_norm, start_time, end_time)"
   ]
  },
  {
   "cell_type": "code",
   "execution_count": null,
   "metadata": {},
   "outputs": [],
   "source": [
    "min5_not_norm = pd.read_parquet('/Volumes/ssd_fat2/ai6_trading_bot/datasets/1h/EUR_USD.parquet')\n",
    "min5_not_norm"
   ]
  }
 ],
 "metadata": {
  "kernelspec": {
   "display_name": "SB5",
   "language": "python",
   "name": "python3"
  },
  "language_info": {
   "codemirror_mode": {
    "name": "ipython",
    "version": 3
   },
   "file_extension": ".py",
   "mimetype": "text/x-python",
   "name": "python",
   "nbconvert_exporter": "python",
   "pygments_lexer": "ipython3",
   "version": "3.9.18"
  }
 },
 "nbformat": 4,
 "nbformat_minor": 2
}
