{
 "cells": [
  {
   "cell_type": "code",
   "execution_count": null,
   "metadata": {},
   "outputs": [],
   "source": [
    "\n",
    "\n",
    "from IPython.core.interactiveshell import InteractiveShell\n",
    "InteractiveShell.ast_node_interactivity = \"all\"\n",
    "from trading.model_manager import ModelManager\n",
    "import sys\n",
    "import os\n",
    "\n",
    "# Initialize\n",
    "model_manager = ModelManager()\n",
    "\n",
    "\n",
    "model, metrics = model_manager.train_model(\n",
    "    df=data,\n",
    "    pair=\"EUR_USD\",\n",
    "    total_timesteps=10_000,  # Small number for testing\n",
    "    eval_freq=1_000\n",
    ")\n"
   ]
  },
  {
   "cell_type": "code",
   "execution_count": 4,
   "metadata": {},
   "outputs": [
    {
     "data": {
      "text/plain": [
       "0.03807970779778824"
      ]
     },
     "execution_count": 4,
     "metadata": {},
     "output_type": "execute_result"
    }
   ],
   "source": [
    "import numpy as np\n",
    "win_rate = 0.5\n",
    "win_rate_bonus = 0.05 * np.tanh(win_rate * 2)\n",
    "\n",
    "win_rate_bonus"
   ]
  },
  {
   "cell_type": "code",
   "execution_count": null,
   "metadata": {},
   "outputs": [],
   "source": []
  },
  {
   "cell_type": "code",
   "execution_count": null,
   "metadata": {},
   "outputs": [],
   "source": [
    "from datetime import datetime, timedelta\n",
    "import pytz\n",
    "import pandas as pd\n",
    "import plotly.graph_objects as go\n",
    "from plotly.subplots import make_subplots\n",
    "from IPython.core.interactiveshell import InteractiveShell\n",
    "InteractiveShell.ast_node_interactivity = \"all\"\n",
    "\n",
    "# Add the project root to the Python path so we can import our modules\n",
    "project_root = os.path.abspath(os.path.join(os.getcwd(), '..'))\n",
    "if project_root not in sys.path:\n",
    "    sys.path.append(project_root)\n",
    "\n",
    "from data_management.dataset_manager import DatasetManager\n",
    "from visualization.chart_manager import ChartManager\n",
    "\n",
    "\n",
    "# Initialize managers\n",
    "dataset_manager = DatasetManager()\n",
    "chart_manager = ChartManager()\n",
    "\n",
    "# Test data loading and processing for EUR_USD\n",
    "def load_and_process_data(\n",
    "    ticker: str = \"EUR_USD\",\n",
    "    timeframe: str = \"1min\",\n",
    "    days_back: int = 30,\n",
    "\n",
    ") -> pd.DataFrame:\n",
    "    \"\"\"\n",
    "    Load and process data for a given ticker.\n",
    "    \n",
    "    Args:\n",
    "        ticker: Currency pair to process\n",
    "        timeframe: Timeframe for the data\n",
    "        days_back: Number of days of data to load\n",
    "    \"\"\"\n",
    "    end_time = datetime.now(pytz.UTC)\n",
    "    start_time = end_time - timedelta(days=days_back)\n",
    "    \n",
    "    print(f\"Loading and updating data for {ticker}...\")\n",
    "    print(f\"Timeframe: {timeframe}\")\n",
    "    print(f\"Date range: {start_time} to {end_time}\")\n",
    "    \n",
    "    df = dataset_manager.load_and_update_dataset(\n",
    "        currency_pair=ticker,\n",
    "        timeframe=timeframe,\n",
    "        start_time=start_time,\n",
    "        end_time=end_time,\n",
    "        normalize=False,\n",
    "    )\n",
    "    \n",
    "    print(\"\\nData Summary:\")\n",
    "    print(f\"Data range: {df.index[0]} to {df.index[-1]}\")\n",
    "    print(f\"Total rows: {len(df)}\")\n",
    "    print(\"\\nColumns available:\")\n",
    "    print(df.columns.tolist())\n",
    "    \n",
    "    return df\n",
    "\n",
    "# Load the data\n",
    "df = load_and_process_data(ticker=\"EUR_USD\", timeframe=\"1h\", days_back=10_000)"
   ]
  },
  {
   "cell_type": "code",
   "execution_count": null,
   "metadata": {},
   "outputs": [],
   "source": []
  },
  {
   "cell_type": "code",
   "execution_count": null,
   "metadata": {},
   "outputs": [],
   "source": []
  },
  {
   "cell_type": "code",
   "execution_count": null,
   "metadata": {},
   "outputs": [],
   "source": []
  },
  {
   "cell_type": "code",
   "execution_count": null,
   "metadata": {},
   "outputs": [],
   "source": []
  },
  {
   "cell_type": "code",
   "execution_count": null,
   "metadata": {},
   "outputs": [],
   "source": []
  },
  {
   "cell_type": "code",
   "execution_count": null,
   "metadata": {},
   "outputs": [],
   "source": [
    "df.loc['2024-11-18 15:00:00+00:00']\n",
    "# for_charting = df.dropna()\n",
    "# for_charting"
   ]
  },
  {
   "cell_type": "code",
   "execution_count": null,
   "metadata": {},
   "outputs": [],
   "source": [
    "# Import if needed\n",
    "from visualization.chart_manager import ChartManager\n",
    "\n",
    "start_time = pd.Timestamp('2024-01-01', tz='UTC')\n",
    "end_time = '2024-11-01'\n",
    "# Initialize chart manager\n",
    "chart_manager = ChartManager()\n",
    "\n",
    "# Create all charts with default settings\n",
    "chart_manager.create_charts(df,start_time=start_time, show_candlesticks=False)\n",
    "\n"
   ]
  },
  {
   "cell_type": "code",
   "execution_count": null,
   "metadata": {},
   "outputs": [],
   "source": [
    "# Or create charts with specific time range\n",
    "start_time = pd.Timestamp('2024-01-01')\n",
    "end_time = pd.Timestamp('2024-01-31')\n",
    "chart_manager.create_charts(df, \n",
    "                         start_time=start_time,\n",
    "                         end_time=end_time,\n",
    "                         show_candlesticks=True)\n",
    "\n",
    "# For single indicator chart\n",
    "chart_manager.create_single_chart(df, \n",
    "                               chart_type='macd',  # or 'price', 'rsi' etc\n",
    "                               show_candlesticks=False)"
   ]
  },
  {
   "cell_type": "code",
   "execution_count": null,
   "metadata": {},
   "outputs": [],
   "source": [
    "eur_test = '/Volumes/ssd_fat2/ai6_trading_bot/datasets/1min/EUR_USD.parquet'\n",
    "test_df = pd.read_parquet(eur_test)\n",
    "test_df.tail()"
   ]
  },
  {
   "cell_type": "code",
   "execution_count": null,
   "metadata": {},
   "outputs": [],
   "source": []
  },
  {
   "cell_type": "code",
   "execution_count": null,
   "metadata": {},
   "outputs": [],
   "source": []
  },
  {
   "cell_type": "code",
   "execution_count": null,
   "metadata": {},
   "outputs": [],
   "source": []
  },
  {
   "cell_type": "code",
   "execution_count": null,
   "metadata": {},
   "outputs": [],
   "source": [
    "df.tail()"
   ]
  },
  {
   "cell_type": "code",
   "execution_count": null,
   "metadata": {},
   "outputs": [],
   "source": [
    "# Create the charts\n",
    "chart_manager.create_charts(\n",
    "    df,\n",
    "    show_candlesticks=False\n",
    ")"
   ]
  },
  {
   "cell_type": "code",
   "execution_count": null,
   "metadata": {},
   "outputs": [],
   "source": [
    "# View a different time period\n",
    "df_subset = df['2024-01-01':'2024-01-15']\n",
    "chart_manager.create_charts(df_subset, show_candlesticks=False)\n",
    "\n",
    "# Check specific indicators\n",
    "print(\"Available indicators:\")\n",
    "indicators = [col for col in df.columns if col not in ['open', 'high', 'low', 'close', 'volume']]\n",
    "print(indicators)\n",
    "\n",
    "# View correlation between indicators\n",
    "correlation_matrix = df[indicators].corr()\n",
    "display(correlation_matrix)"
   ]
  },
  {
   "cell_type": "code",
   "execution_count": null,
   "metadata": {},
   "outputs": [],
   "source": [
    "# Check the most recent data points\n",
    "print(\"Most recent data:\")\n",
    "display(df.tail(10))\n",
    "\n",
    "# Check for any gaps in the data\n",
    "time_diff = df.index.to_series().diff()\n",
    "gaps = time_diff[time_diff > pd.Timedelta(minutes=16)]  # For 15-min timeframe\n",
    "if not gaps.empty:\n",
    "    print(\"\\nFound gaps in data:\")\n",
    "    display(gaps)"
   ]
  }
 ],
 "metadata": {
  "kernelspec": {
   "display_name": "SB5",
   "language": "python",
   "name": "python3"
  },
  "language_info": {
   "codemirror_mode": {
    "name": "ipython",
    "version": 3
   },
   "file_extension": ".py",
   "mimetype": "text/x-python",
   "name": "python",
   "nbconvert_exporter": "python",
   "pygments_lexer": "ipython3",
   "version": "3.9.18"
  }
 },
 "nbformat": 4,
 "nbformat_minor": 2
}
