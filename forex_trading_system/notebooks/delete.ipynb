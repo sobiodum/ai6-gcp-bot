{
 "cells": [
  {
   "cell_type": "code",
   "execution_count": null,
   "metadata": {},
   "outputs": [],
   "source": [
    "import pandas as pd\n",
    "\n",
    "eur = pd.read_parquet(\"/Volumes/ssd_fat2/ai6_trading_bot/datasets/1h/EUR_USD.parquet\")\n",
    "eur.columns"
   ]
  },
  {
   "cell_type": "code",
   "execution_count": null,
   "metadata": {},
   "outputs": [],
   "source": [
    "import pandas as pd\n",
    "eur_norm = '/Volumes/ssd_fat2/ai6_trading_bot/datasets/1h/normalized/EUR_USD.parquet'\n",
    "df = pd.read_parquet(eur_norm)\n",
    "df.columns"
   ]
  },
  {
   "cell_type": "markdown",
   "metadata": {},
   "source": [
    "EUR norm Hstack"
   ]
  },
  {
   "cell_type": "code",
   "execution_count": null,
   "metadata": {},
   "outputs": [
    {
     "name": "stdout",
     "output_type": "stream",
     "text": [
      "Dataset split sizes:\n",
      "Training: 101768 samples (70.0%)\n",
      "Validation: 21808 samples (15.0%)\n",
      "Test: 21808 samples (15.0%)\n",
      "Selected features for observation space: ['close', 'sma_20', 'sma_50', 'rsi', 'macd', 'macd_signal', 'macd_hist', 'bb_upper', 'bb_middle', 'bb_lower', 'bb_bandwidth', 'bb_percent', 'atr', 'plus_di', 'minus_di', 'adx', 'senkou_span_a', 'senkou_span_b', 'tenkan_sen', 'kijun_sen', 'price_norm']\n",
      "Selected features for observation space: ['close', 'sma_20', 'sma_50', 'rsi', 'macd', 'macd_signal', 'macd_hist', 'bb_upper', 'bb_middle', 'bb_lower', 'bb_bandwidth', 'bb_percent', 'atr', 'plus_di', 'minus_di', 'adx', 'senkou_span_a', 'senkou_span_b', 'tenkan_sen', 'kijun_sen', 'price_norm']\n",
      "\n",
      "Episode Summary:\n",
      "Final Return: -1.14%\n",
      "Total PnL: -2020.00\n",
      "Total Trades: 469\n",
      "Winning Trades: 224\n",
      "Win Rate: 47.76%\n",
      "Initial Balance: 1000000.00\n",
      "Final Balance: 988590.00\n",
      "--------------------------------------------------\n"
     ]
    }
   ],
   "source": [
    "import os\n",
    "import sys\n",
    "\n",
    "import pandas as pd\n",
    "\n",
    "from datetime import datetime, timedelta\n",
    "from pathlib import Path\n",
    "\n",
    "\n",
    "# Add the project root to the Python path\n",
    "project_root = os.path.abspath(os.path.join(os.getcwd(), '..'))\n",
    "if project_root not in sys.path:\n",
    "    sys.path.append(project_root)\n",
    "from stable_baselines3 import PPO\n",
    "from stable_baselines3.common.vec_env import VecNormalize, DummyVecEnv\n",
    "from trading.environments.forex_env2_flat import ForexTradingEnv\n",
    "from stable_baselines3.common.callbacks import EvalCallback\n",
    "from stable_baselines3.common.monitor import Monitor\n",
    "from data_management.dataset_manager import DatasetManager\n",
    "\n",
    "pair = \"EUR_USD\"\n",
    "\n",
    "eur_norm = Path('/Volumes/ssd_fat2/ai6_trading_bot/datasets/1h/normalized/EUR_USD.parquet')\n",
    "df = pd.read_parquet(eur_norm)\n",
    "\n",
    "dataset_manager = DatasetManager()\n",
    "train_df, val_df, test_df = dataset_manager.split_dataset(df, train_ratio=0.7, val_ratio=0.15, test_ratio=0.15)\n",
    "\n",
    "\n",
    "\n",
    "saving_path = f'./logs/27nov/norm_hstack/'\n",
    "os.makedirs(saving_path, exist_ok=True)\n",
    "\n",
    "def make_train_env():\n",
    "    env = ForexTradingEnv(\n",
    "        df=train_df,\n",
    "        pair='EUR_USD',\n",
    "\n",
    "    )\n",
    "    env = Monitor(env)\n",
    "    env = DummyVecEnv([lambda: env])\n",
    "    env = VecNormalize(env, norm_obs=True, norm_reward=True)\n",
    "    return env\n",
    "\n",
    "def make_eval_env():\n",
    "    env = ForexTradingEnv(\n",
    "\n",
    "        df=val_df,\n",
    "        pair='EUR_USD',\n",
    "        # resample_interval='1h'\n",
    "    )\n",
    "    env = Monitor(env)\n",
    "    env = DummyVecEnv([lambda: env])\n",
    "    env = VecNormalize(env, norm_obs=True, norm_reward=False)\n",
    "    env.training = False\n",
    "    return env\n",
    "\n",
    "train_env = make_train_env()\n",
    "eval_env = make_eval_env()\n",
    "eval_callback = EvalCallback(\n",
    "    eval_env,\n",
    "    best_model_save_path=saving_path,\n",
    "    log_path=saving_path,\n",
    "    eval_freq=100_000,  # Adjust as needed\n",
    "    n_eval_episodes=5,\n",
    "    deterministic=True,\n",
    "    render=False\n",
    ")\n",
    "\n",
    "model = PPO(\n",
    "    'MlpPolicy',\n",
    "    train_env,\n",
    "    verbose=0,\n",
    "    tensorboard_log=f'{saving_path}tensorboard/',\n",
    ")\n",
    "\n",
    "model.learn(\n",
    "    total_timesteps=5_000_000,  # Adjust as needed\n",
    "    callback=eval_callback\n",
    ")\n",
    "\n",
    "model.save(f'{saving_path}best_model.zip')\n",
    "train_env.save(f'{saving_path}vec_normalize.pkl')"
   ]
  },
  {
   "cell_type": "code",
   "execution_count": 1,
   "metadata": {},
   "outputs": [
    {
     "data": {
      "text/plain": [
       "Index(['open', 'high', 'low', 'close', 'volume', 'sma_20', 'sma_50', 'rsi',\n",
       "       'macd', 'macd_signal', 'macd_hist', 'bb_upper', 'bb_middle', 'bb_lower',\n",
       "       'bb_bandwidth', 'bb_percent', 'atr', 'plus_di', 'minus_di', 'adx',\n",
       "       'senkou_span_a', 'senkou_span_b', 'tenkan_sen', 'kijun_sen',\n",
       "       'price_norm'],\n",
       "      dtype='object')"
      ]
     },
     "execution_count": 1,
     "metadata": {},
     "output_type": "execute_result"
    }
   ],
   "source": [
    "import os\n",
    "import sys\n",
    "\n",
    "import pandas as pd\n",
    "\n",
    "from datetime import datetime, timedelta\n",
    "from pathlib import Path\n",
    "\n",
    "\n",
    "# Add the project root to the Python path\n",
    "project_root = os.path.abspath(os.path.join(os.getcwd(), '..'))\n",
    "if project_root not in sys.path:\n",
    "    sys.path.append(project_root)\n",
    "from stable_baselines3 import PPO\n",
    "from stable_baselines3.common.vec_env import VecNormalize, DummyVecEnv\n",
    "from trading.environments.forex_env2_flat import ForexTradingEnv\n",
    "from stable_baselines3.common.callbacks import EvalCallback\n",
    "from stable_baselines3.common.monitor import Monitor\n",
    "from data_management.dataset_manager import DatasetManager\n",
    "\n",
    "pair = \"EUR_USD\"\n",
    "\n",
    "eur_norm = Path('/Volumes/ssd_fat2/ai6_trading_bot/datasets/1h/normalized/EUR_USD.parquet')\n",
    "df = pd.read_parquet(eur_norm)\n",
    "df.columns"
   ]
  },
  {
   "cell_type": "code",
   "execution_count": null,
   "metadata": {},
   "outputs": [],
   "source": [
    "\n",
    "from IPython.core.interactiveshell import InteractiveShell\n",
    "InteractiveShell.ast_node_interactivity = \"all\"\n",
    "from pathlib import Path\n",
    "import pandas as pd\n",
    "import os, sys\n",
    "output_dir= \"/Volumes/ssd_fat2/ai6_trading_bot/datasets/1h/normalized/\"\n",
    "Path(output_dir)\n",
    "# Add the project root to the Python path\n",
    "project_root = os.path.abspath(os.path.join(os.getcwd(), '..'))\n",
    "if project_root not in sys.path:\n",
    "    sys.path.append(project_root)\n",
    "\n",
    "\n",
    "from data_management.preprocessor import DataPreprocessor\n",
    "\n",
    "\n",
    "\n",
    "processor = DataPreprocessor()\n",
    "\n",
    "eur = pd.read_parquet(\"/Volumes/ssd_fat2/ai6_trading_bot/datasets/1h/EUR_USD.parquet\")\n",
    "\n",
    "eur_norm = processor.normalize_simple(df=eur)\n",
    "eur_norm.to_parquet('/Volumes/ssd_fat2/ai6_trading_bot/datasets/1h/normalized/EUR_USD.parquet')\n",
    "eur_norm\n"
   ]
  },
  {
   "cell_type": "code",
   "execution_count": null,
   "metadata": {},
   "outputs": [],
   "source": [
    "eur_norm.to_parquet('/Volumes/ssd_fat2/ai6_trading_bot/datasets/1h/normalized/EUR_USD.parquet')"
   ]
  },
  {
   "cell_type": "code",
   "execution_count": null,
   "metadata": {},
   "outputs": [],
   "source": []
  },
  {
   "cell_type": "code",
   "execution_count": null,
   "metadata": {},
   "outputs": [],
   "source": []
  }
 ],
 "metadata": {
  "kernelspec": {
   "display_name": "SB5",
   "language": "python",
   "name": "python3"
  },
  "language_info": {
   "codemirror_mode": {
    "name": "ipython",
    "version": 3
   },
   "file_extension": ".py",
   "mimetype": "text/x-python",
   "name": "python",
   "nbconvert_exporter": "python",
   "pygments_lexer": "ipython3",
   "version": "3.9.18"
  }
 },
 "nbformat": 4,
 "nbformat_minor": 2
}
